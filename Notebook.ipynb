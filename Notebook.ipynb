{
 "cells": [
  {
   "cell_type": "code",
   "execution_count": 1,
   "metadata": {},
   "outputs": [],
   "source": [
    "%matplotlib inline\n",
    "import matplotlib.pyplot as plt\n",
    "import tensorflow\n",
    "import sys\n",
    "import numpy as np\n",
    "from BrainDQN_Nature import BrainDQN\n",
    "\n",
    "def preTraining(brain, pathname='./testingData'):\n",
    "    for root, dirs, files in os.walk(pathname):\n",
    "        for name in files:\n",
    "            filename = os.path.join(root, name)\n",
    "            with open(filename) as fin:\n",
    "                for line in fin:\n",
    "                    sObservation, sAction, sReward, sTerminal = line.split('|')\n",
    "                    observation = np.reshape(list(map(int, sObservation.split(','))), (80, 80, 1))\n",
    "                    actionTmp = list(map(int, sAction.split(',')))\n",
    "                    action = np.array([actionTmp[0], actionTmp[1]])\n",
    "                    reward = float(sReward)\n",
    "                    terminal = True if sTerminal == 1 else False\n",
    "                    brain.setPerception(observation, action, reward, terminal)\n",
    "    return brain"
   ]
  },
  {
   "cell_type": "code",
   "execution_count": 2,
   "metadata": {},
   "outputs": [
    {
     "name": "stdout",
     "output_type": "stream",
     "text": [
      "WARNING:tensorflow:From e:\\usr\\anaconda3\\envs\\tensorflow\\lib\\site-packages\\tensorflow\\python\\util\\tf_should_use.py:107: initialize_all_variables (from tensorflow.python.ops.variables) is deprecated and will be removed after 2017-03-02.\n",
      "Instructions for updating:\n",
      "Use `tf.global_variables_initializer` instead.\n",
      "INFO:tensorflow:Restoring parameters from saved_networks\\network-dqn-50000\n",
      "Successfully loaded: saved_networks\\network-dqn-50000\n"
     ]
    }
   ],
   "source": [
    "actions = 2\n",
    "brain = BrainDQN(actions)"
   ]
  },
  {
   "cell_type": "code",
   "execution_count": 3,
   "metadata": {},
   "outputs": [
    {
     "name": "stdout",
     "output_type": "stream",
     "text": [
      "TIMESTEP 0 / STATE observe / EPSILON 0\n",
      "TIMESTEP 100 / STATE observe / EPSILON 0\n"
     ]
    }
   ],
   "source": [
    "import os\n",
    "brain = preTraining(brain)"
   ]
  },
  {
   "cell_type": "code",
   "execution_count": 4,
   "metadata": {},
   "outputs": [
    {
     "data": {
      "image/png": "[encoded data removed]",
      "text/plain": [
       "<matplotlib.figure.Figure at 0x2123d686940>"
      ]
     },
     "metadata": {},
     "output_type": "display_data"
    }
   ],
   "source": [
    "brain.plot_conv_weights(brain.W_conv1)"
   ]
  },
  {
   "cell_type": "code",
   "execution_count": 10,
   "metadata": {},
   "outputs": [
    {
     "name": "stdout",
     "output_type": "stream",
     "text": [
      "(8, 8, 4, 32)\n",
      "32\n"
     ]
    }
   ],
   "source": []
  }
 ],
 "metadata": {
  "kernelspec": {
   "display_name": "Python 3",
   "language": "python",
   "name": "python3"
  },
  "language_info": {
   "codemirror_mode": {
    "name": "ipython",
    "version": 3
   },
   "file_extension": ".py",
   "mimetype": "text/x-python",
   "name": "python",
   "nbconvert_exporter": "python",
   "pygments_lexer": "ipython3",
   "version": "3.5.4"
  }
 },
 "nbformat": 4,
 "nbformat_minor": 2
}
